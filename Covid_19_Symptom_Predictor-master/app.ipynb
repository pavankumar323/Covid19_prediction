{
 "cells": [
  {
   "cell_type": "code",
   "execution_count": 1,
   "metadata": {},
   "outputs": [],
   "source": [
    "from flask import Flask, render_template, request\n",
    "import pickle"
   ]
  },
  {
   "cell_type": "code",
   "execution_count": 2,
   "metadata": {},
   "outputs": [
    {
     "name": "stdout",
     "output_type": "stream",
     "text": [
      " * Serving Flask app \"__main__\" (lazy loading)\n",
      " * Environment: production\n",
      "\u001b[31m   WARNING: This is a development server. Do not use it in a production deployment.\u001b[0m\n",
      "\u001b[2m   Use a production WSGI server instead.\u001b[0m\n",
      " * Debug mode: off\n"
     ]
    },
    {
     "name": "stderr",
     "output_type": "stream",
     "text": [
      " * Running on http://127.0.0.1:5000/ (Press CTRL+C to quit)\n",
      "127.0.0.1 - - [08/Nov/2021 15:15:16] \"\u001b[37mGET / HTTP/1.1\u001b[0m\" 200 -\n"
     ]
    }
   ],
   "source": [
    "app = Flask(__name__)\n",
    "\n",
    "\n",
    "Knn_model = pickle.load(open('knn.pkt', 'rb'))\n",
    "\n",
    "@app.route('/', methods=[\"GET\", \"POST\"])\n",
    "def hello_world():\n",
    "    if request.method == \"POST\":\n",
    "        myDict = request.form\n",
    "        fever = float(myDict['fever'])\n",
    "        age = int(myDict['age'])\n",
    "        pain = int(myDict['pain'])\n",
    "        runnyNose = int(myDict['runnyNose'])\n",
    "        diffBreath = int(myDict['diffBreath'])\n",
    "        # Code for Inference\n",
    "        inputFeatures = [fever, pain, age, runnyNose, diffBreath]\n",
    "        infProb =Knn_model.predict_proba([inputFeatures])[0][1]\n",
    "        print(infProb)\n",
    "        return render_template('show.html', inf= (infProb)*100)\n",
    "    return render_template('index.html')\n",
    "app.run()"
   ]
  }
 ],
 "metadata": {
  "interpreter": {
   "hash": "514c875f458a4eeecf57fff9a8f241a0d348fbc5534b67b68517d23698dc73f9"
  },
  "kernelspec": {
   "display_name": "Python 3.8.5 64-bit ('base': conda)",
   "name": "python3"
  },
  "language_info": {
   "codemirror_mode": {
    "name": "ipython",
    "version": 3
   },
   "file_extension": ".py",
   "mimetype": "text/x-python",
   "name": "python",
   "nbconvert_exporter": "python",
   "pygments_lexer": "ipython3",
   "version": "3.8.5"
  },
  "orig_nbformat": 4
 },
 "nbformat": 4,
 "nbformat_minor": 2
}
